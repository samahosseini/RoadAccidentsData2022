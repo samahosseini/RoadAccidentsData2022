{
 "cells": [
  {
   "cell_type": "markdown",
   "source": [
    "# import packages"
   ],
   "metadata": {
    "collapsed": false
   },
   "id": "950bcb8e669b673f"
  },
  {
   "cell_type": "code",
   "outputs": [],
   "source": [
    "import numpy as np\n",
    "import seaborn as sns\n",
    "import matplotlib.pyplot as plt"
   ],
   "metadata": {
    "collapsed": false,
    "ExecuteTime": {
     "end_time": "2024-02-25T20:19:52.606826700Z",
     "start_time": "2024-02-25T20:19:52.585269900Z"
    }
   },
   "id": "60bb9ea6ed3243f9",
   "execution_count": 15
  },
  {
   "cell_type": "code",
   "outputs": [],
   "source": [
    "import pandas as pd\n",
    "import scipy.stats as stats"
   ],
   "metadata": {
    "collapsed": false,
    "ExecuteTime": {
     "end_time": "2024-02-25T20:19:53.688280800Z",
     "start_time": "2024-02-25T20:19:53.659278200Z"
    }
   },
   "id": "f6f13c92423ecec4",
   "execution_count": 16
  },
  {
   "cell_type": "markdown",
   "source": [
    "# load dataset"
   ],
   "metadata": {
    "collapsed": false
   },
   "id": "4eb1a00f41f1cf54"
  },
  {
   "cell_type": "markdown",
   "source": [
    "Read the CSV data into a DataFrame, define -1 values as None"
   ],
   "metadata": {
    "collapsed": false
   },
   "id": "9c80770ca6f7573a"
  },
  {
   "cell_type": "code",
   "outputs": [],
   "source": [
    "path = \"../data/dft-road-casualty-statistics-casualty-provisional-mid-year-unvalidated-2022.csv\"\n",
    "df = pd.read_csv(path, na_values=-1)"
   ],
   "metadata": {
    "collapsed": false,
    "ExecuteTime": {
     "end_time": "2024-02-25T20:19:54.990061200Z",
     "start_time": "2024-02-25T20:19:54.819388600Z"
    }
   },
   "id": "36619edebe0427db",
   "execution_count": 17
  },
  {
   "cell_type": "markdown",
   "source": [
    "# data exploration"
   ],
   "metadata": {
    "collapsed": false
   },
   "id": "9c4dc3187abf394"
  },
  {
   "cell_type": "code",
   "outputs": [],
   "source": [
    "# Shape of the dataset\n",
    "shape = df.shape\n",
    "\n",
    "# Data types of the columns\n",
    "data_types = df.dtypes\n",
    "\n",
    "# Check for missing values\n",
    "missing_values = df.isnull().sum()\n",
    "\n",
    "# Descriptive statistics of the numerical columns\n",
    "descriptive_stats = df.describe()\n",
    "\n",
    "# Count of unique values for each column\n",
    "unique_counts = df.nunique()\n",
    "\n",
    "shape, data_types, missing_values, descriptive_stats, unique_counts"
   ],
   "metadata": {
    "collapsed": false
   },
   "id": "1f0ad0fbd9d96761",
   "execution_count": null
  },
  {
   "cell_type": "markdown",
   "source": [
    "Check for outliers or inconsistencies For numerical columns and boxplot"
   ],
   "metadata": {
    "collapsed": false
   },
   "id": "147e57bc7091d731"
  },
  {
   "cell_type": "code",
   "outputs": [],
   "source": [
    "numerical_columns = df.select_dtypes(include=['int64', 'float64']).columns\n",
    "\n",
    "# Set up subplots\n",
    "fig, axes = plt.subplots(nrows=1, ncols=len(numerical_columns), figsize=(15, 5))\n",
    "\n",
    "# Plot boxplots for each numerical column\n",
    "for i, column in enumerate(numerical_columns):\n",
    "    df.boxplot(column=column, ax=axes[i])\n",
    "    axes[i].set_xlabel(column, rotation=90, labelpad=10)  # Rotate x-axis labels by 90 degrees and place them above\n",
    "    axes[i].tick_params(axis='x', bottom=False)  # Hide x-axis ticks\n",
    "\n",
    "plt.tight_layout()\n",
    "plt.show()\n"
   ],
   "metadata": {
    "collapsed": false
   },
   "id": "36496c4b504ca45b",
   "execution_count": null
  },
  {
   "cell_type": "markdown",
   "source": [
    "Check for outliers or inconsistencies For categorical columns"
   ],
   "metadata": {
    "collapsed": false
   },
   "id": "a0a975a02e0505ad"
  },
  {
   "cell_type": "code",
   "outputs": [],
   "source": [
    "categorical_columns = df.select_dtypes(include=['object']).columns\n",
    "for column in categorical_columns:\n",
    "    # Check unique values\n",
    "    print(f\"\\nUnique values in {column}:\")\n",
    "    print(df[column].value_counts())"
   ],
   "metadata": {
    "collapsed": false
   },
   "id": "b18d29a56037c0b1",
   "execution_count": null
  },
  {
   "cell_type": "markdown",
   "source": [],
   "metadata": {
    "collapsed": false
   },
   "id": "ace2e04f34b0591b"
  },
  {
   "cell_type": "markdown",
   "source": [
    "Calculate the range of diversity for each numerical column"
   ],
   "metadata": {
    "collapsed": false
   },
   "id": "257a5a534525e631"
  },
  {
   "cell_type": "code",
   "outputs": [],
   "source": [
    "diversity_ranges = {}\n",
    "for column in df.columns:\n",
    "    if df[column].dtype in ['int64', 'float64']:  # Check if the column is numerical\n",
    "        column_range = df[column].max() - df[column].min()\n",
    "        diversity_ranges[column] = column_range + 1\n",
    "\n",
    "# Print the range of diversity for each numerical column\n",
    "for column, diversity_range in diversity_ranges.items():\n",
    "    print(f\"Range of diversity for '{column}': {diversity_range}\")"
   ],
   "metadata": {
    "collapsed": false
   },
   "id": "6122e10103968ff4",
   "execution_count": null
  },
  {
   "cell_type": "markdown",
   "source": [
    "# Descriptive Statistics"
   ],
   "metadata": {
    "collapsed": false
   },
   "id": "4578e797f572d32d"
  },
  {
   "cell_type": "markdown",
   "source": [
    "Summary statistics for numerical variables"
   ],
   "metadata": {
    "collapsed": false
   },
   "id": "2e969f812e46c186"
  },
  {
   "cell_type": "code",
   "outputs": [],
   "source": [
    "numerical_columns = df.select_dtypes(include=['int64', 'float64']).columns\n",
    "numerical_summary = df[numerical_columns].describe()\n",
    "print(\"Summary statistics for numerical variables:\")\n",
    "print(numerical_summary)"
   ],
   "metadata": {
    "collapsed": false
   },
   "id": "c65608b6e4cba0bd",
   "execution_count": null
  },
  {
   "cell_type": "markdown",
   "source": [
    "Frequency tables for categorical variables"
   ],
   "metadata": {
    "collapsed": false
   },
   "id": "5688cf8663b69117"
  },
  {
   "cell_type": "code",
   "outputs": [],
   "source": [
    "categorical_columns = df.select_dtypes(include=['object']).columns\n",
    "for column in categorical_columns:\n",
    "    print(f\"\\nFrequency table for {column}:\")\n",
    "    print(df[column].value_counts())"
   ],
   "metadata": {
    "collapsed": false
   },
   "id": "bfb5c9c3fc39f3e9",
   "execution_count": null
  },
  {
   "cell_type": "markdown",
   "source": [
    "# Data preprocessing"
   ],
   "metadata": {
    "collapsed": false
   },
   "id": "597403672f3a5f65"
  },
  {
   "cell_type": "code",
   "outputs": [],
   "source": [
    "df_numeric = df.select_dtypes(exclude=['object'])\n",
    "# Calculate correlation matrix\n",
    "correlation_matrix = df_numeric.corr()\n",
    "\n",
    "mask = np.triu(np.ones_like(correlation_matrix, dtype=bool))\n",
    "cmap = sns.diverging_palette(230, 20, as_cmap=True)\n",
    "\n",
    "# Plot correlation matrix as a heatmap\n",
    "plt.figure(figsize=(10, 8))\n",
    "sns.heatmap(correlation_matrix, mask=mask, annot=True, cmap=cmap, cbar_kws={\"shrink\": .5}, fmt=\".2f\")\n",
    "plt.title('Correlation Matrix of Numerical Variables')\n",
    "plt.show()"
   ],
   "metadata": {
    "collapsed": false
   },
   "id": "b80a64f3b635234e",
   "execution_count": null
  },
  {
   "cell_type": "markdown",
   "source": [
    "# Data Cleaning"
   ],
   "metadata": {
    "collapsed": false
   },
   "id": "e9bbcd54c258b8cf"
  },
  {
   "cell_type": "code",
   "outputs": [],
   "source": [
    "df.drop(columns=['accident_year', 'accident_reference', 'status'], inplace=True)\n",
    "df.drop_duplicates(inplace=True)"
   ],
   "metadata": {
    "collapsed": false,
    "ExecuteTime": {
     "end_time": "2024-02-25T20:20:02.373680600Z",
     "start_time": "2024-02-25T20:20:02.301344600Z"
    }
   },
   "id": "4b14c3c664cf0047",
   "execution_count": 18
  },
  {
   "cell_type": "markdown",
   "source": [
    "Handle missing data"
   ],
   "metadata": {
    "collapsed": false
   },
   "id": "4f74ea5ba3866769"
  },
  {
   "cell_type": "code",
   "outputs": [],
   "source": [
    "from sklearn.impute import SimpleImputer\n",
    "\n",
    "# Impute missing values with mode\n",
    "imputer_mode = SimpleImputer(strategy='most_frequent')\n",
    "\n",
    "# Fit the imputer and transform the data\n",
    "df['sex_of_casualty'] = imputer_mode.fit_transform(df[['sex_of_casualty']])\n",
    "df['casualty_type'] = imputer_mode.fit_transform(df[['casualty_type']])\n",
    "df['car_passenger'] = imputer_mode.fit_transform(df[['car_passenger']])\n",
    "df['bus_or_coach_passenger'] = imputer_mode.fit_transform(\n",
    "    df[['bus_or_coach_passenger']])\n",
    "df['pedestrian_road_maintenance_worker'] = imputer_mode.fit_transform(\n",
    "    df[['pedestrian_road_maintenance_worker']])\n",
    "\n",
    "# Impute missing values with median\n",
    "imputer_median = SimpleImputer(strategy='median')\n",
    "\n",
    "df['age_of_casualty'] = imputer_median.fit_transform(df[['age_of_casualty']])\n",
    "df['age_band_of_casualty'] = imputer_median.fit_transform(\n",
    "    df[['age_band_of_casualty']])\n",
    "df.dropna(inplace=True)\n"
   ],
   "metadata": {
    "collapsed": false,
    "ExecuteTime": {
     "end_time": "2024-02-25T20:20:03.776897500Z",
     "start_time": "2024-02-25T20:20:03.719896500Z"
    }
   },
   "id": "5eca9f3d1e964f58",
   "execution_count": 19
  },
  {
   "cell_type": "markdown",
   "source": [
    "remove outliers"
   ],
   "metadata": {
    "collapsed": false
   },
   "id": "7ed9917198a8bf45"
  },
  {
   "cell_type": "code",
   "outputs": [],
   "source": [
    "df = df[(df['vehicle_reference'] != 227) & (df['vehicle_reference'] != 61)]\n",
    "df = df[(df['casualty_reference'] != 22) & (df['casualty_reference'] != 148)]\n"
   ],
   "metadata": {
    "collapsed": false,
    "ExecuteTime": {
     "end_time": "2024-02-25T20:20:06.119993500Z",
     "start_time": "2024-02-25T20:20:06.094847400Z"
    }
   },
   "id": "cb58b9710bfada00",
   "execution_count": 20
  },
  {
   "cell_type": "markdown",
   "source": [
    "# Data Type Conversion"
   ],
   "metadata": {
    "collapsed": false
   },
   "id": "109d88ad6c8944a8"
  },
  {
   "cell_type": "code",
   "outputs": [],
   "source": [
    "columns_to_convert = ['sex_of_casualty', 'age_of_casualty',\n",
    "                      'age_band_of_casualty',\n",
    "                      'car_passenger', 'bus_or_coach_passenger',\n",
    "                      'pedestrian_road_maintenance_worker', 'casualty_type',\n",
    "                      'casualty_home_area_type', 'casualty_imd_decile']\n",
    "\n",
    "# Convert columns to int type\n",
    "df[columns_to_convert] = df[columns_to_convert].astype(int)"
   ],
   "metadata": {
    "collapsed": false,
    "ExecuteTime": {
     "end_time": "2024-02-25T20:20:08.309442400Z",
     "start_time": "2024-02-25T20:20:08.278446Z"
    }
   },
   "id": "167cadef55b8ea49",
   "execution_count": 21
  },
  {
   "cell_type": "markdown",
   "source": [
    "# Exploratory Data Analysis (EDA)"
   ],
   "metadata": {
    "collapsed": false
   },
   "id": "29b9e63f2e0eec3d"
  },
  {
   "cell_type": "markdown",
   "source": [
    "Plot the distribution of accident severities"
   ],
   "metadata": {
    "collapsed": false
   },
   "id": "1c4b46745afe0313"
  },
  {
   "cell_type": "code",
   "outputs": [],
   "source": [
    "import matplotlib.pyplot as plt\n",
    "import seaborn as sns\n",
    "\n",
    "current_palette = sns.color_palette() \n",
    "\n",
    "plt.figure(figsize=(10, 6))\n",
    "sns.countplot(x='casualty_severity', data=df, palette=current_palette)\n",
    "\n",
    "plt.title('Distribution of Accident Severities', fontsize=16)\n",
    "plt.xlabel('Casualty Severity', fontsize=14)\n",
    "plt.ylabel('Count', fontsize=14)\n",
    "\n",
    "plt.grid(axis='y', linestyle='--', alpha=0.7)\n",
    "\n",
    "plt.show()\n"
   ],
   "metadata": {
    "collapsed": false
   },
   "id": "1c8f54466cd0b41",
   "execution_count": null
  },
  {
   "cell_type": "markdown",
   "source": [
    "Compare the distribution of casualty severity across different demographic groups"
   ],
   "metadata": {
    "collapsed": false
   },
   "id": "a122cff34f18eb1b"
  },
  {
   "cell_type": "markdown",
   "source": [
    "1. Gender vs. Casualty Severity"
   ],
   "metadata": {
    "collapsed": false
   },
   "id": "81f3d2f5880c6dd4"
  },
  {
   "cell_type": "code",
   "outputs": [],
   "source": [
    "plt.figure(figsize=(8, 6))\n",
    "sns.countplot(x='casualty_severity', hue='sex_of_casualty', data=df, palette=current_palette)\n",
    "plt.title('Casualty Severity by Gender')\n",
    "plt.xlabel('Casualty Severity')\n",
    "plt.ylabel('Count')\n",
    "plt.legend(title='Sex of Casualty', labels=['Male', 'Female'])\n",
    "plt.show()"
   ],
   "metadata": {
    "collapsed": false
   },
   "id": "85035bc197a3a8ca",
   "execution_count": null
  },
  {
   "cell_type": "markdown",
   "source": [
    "2. Age Band vs. Casualty Severity"
   ],
   "metadata": {
    "collapsed": false
   },
   "id": "f57cdcf6d8e1bbab"
  },
  {
   "cell_type": "code",
   "outputs": [],
   "source": [
    "sns.countplot(x='age_band_of_casualty', hue='casualty_severity', data=df, order=sorted(df['age_band_of_casualty'].unique()), palette=current_palette)\n",
    "plt.title('Casualty Severity by Age Band')\n",
    "plt.xticks(rotation=45)\n",
    "plt.show()"
   ],
   "metadata": {
    "collapsed": false
   },
   "id": "b8fc141ce365efdc",
   "execution_count": null
  },
  {
   "cell_type": "markdown",
   "source": [
    "Plot the relationship between casualty severity and casualty class"
   ],
   "metadata": {
    "collapsed": false
   },
   "id": "b11ddd479affd593"
  },
  {
   "cell_type": "code",
   "outputs": [],
   "source": [
    "plt.figure(figsize=(8, 6))\n",
    "sns.countplot(x='casualty_severity', hue='casualty_class', data=df, palette=current_palette)\n",
    "plt.title('Casualty Severity by Casualty Class')\n",
    "plt.xlabel('Casualty Severity')\n",
    "plt.ylabel('Count')\n",
    "plt.legend(title='Casualty Class', labels=['Driver', 'Passenger', 'Pedestrian'])\n",
    "plt.show()"
   ],
   "metadata": {
    "collapsed": false
   },
   "id": "3ff8006f6e0042b5",
   "execution_count": null
  },
  {
   "cell_type": "markdown",
   "source": [
    "Plot the relationship between casualty severity and casualty's home area type"
   ],
   "metadata": {
    "collapsed": false
   },
   "id": "fb137aac74413148"
  },
  {
   "cell_type": "code",
   "outputs": [],
   "source": [
    "plt.figure(figsize=(8, 6))\n",
    "sns.countplot(x='casualty_severity', hue='casualty_home_area_type', data=df, palette=current_palette)\n",
    "plt.title('Casualty Severity by Home Area Type')\n",
    "plt.xlabel('Casualty Severity')\n",
    "plt.ylabel('Count')\n",
    "plt.legend(title='Home Area Type', labels=['Unknown', 'Urban', 'Semi-Urban', 'Rural'])\n",
    "plt.show()"
   ],
   "metadata": {
    "collapsed": false
   },
   "id": "9774297d30d765a1",
   "execution_count": null
  },
  {
   "cell_type": "markdown",
   "source": [
    "Plot the distribution of casualty types"
   ],
   "metadata": {
    "collapsed": false
   },
   "id": "420fda4dac7b88e"
  },
  {
   "cell_type": "code",
   "outputs": [],
   "source": [
    "plt.figure(figsize=(10, 8))\n",
    "sns.countplot(x='casualty_type', data=df, palette=current_palette)\n",
    "plt.title('Distribution of Casualty Types')\n",
    "plt.xlabel('Casualty Type')\n",
    "plt.ylabel('Count')\n",
    "plt.xticks(rotation=90)\n",
    "plt.show()"
   ],
   "metadata": {
    "collapsed": false
   },
   "id": "4b2542a97fb86ad9",
   "execution_count": null
  },
  {
   "cell_type": "markdown",
   "source": [
    "Plot the distribution of pedestrian location values"
   ],
   "metadata": {
    "collapsed": false
   },
   "id": "2c51b82b406b3f93"
  },
  {
   "cell_type": "code",
   "outputs": [],
   "source": [
    "pedestrian_movement_labels = {\n",
    "    0: 'Not a Pedestrian',\n",
    "    1: \"Crossing from driver's nearside\",\n",
    "    2: 'Crossing from nearside - masked by parked or stationary vehicle',\n",
    "    3: \"Crossing from driver's offside\",\n",
    "    4: 'Crossing from offside - masked by parked or stationary vehicle',\n",
    "    5: 'In carriageway, stationary - not crossing (standing or playing)',\n",
    "    6: 'In carriageway, stationary - not crossing (standing or playing) - masked by parked or stationary vehicle',\n",
    "    7: 'Walking along in carriageway, facing traffic',\n",
    "    8: 'Walking along in carriageway, back to traffic',\n",
    "    9: 'Unknown or other'\n",
    "}\n",
    "\n",
    "pedestrian_location_labels = {\n",
    "    0: 'Not a Pedestrian',\n",
    "    1: 'Crossing on pedestrian crossing facility',\n",
    "    2: 'Crossing in zig-zag approach lines',\n",
    "    3: 'Crossing in zig-zag exit lines',\n",
    "    4: 'Crossing elsewhere within 50m. of pedestrian crossing',\n",
    "    5: 'In carriageway, crossing elsewhere',\n",
    "    6: 'On footway or verge',\n",
    "    7: 'On refuge, central island or central reservation',\n",
    "    8: 'In centre of carriageway - not on refuge, island or central reservation',\n",
    "    9: 'In carriageway, not crossing',\n",
    "    10: 'Unknown or other'\n",
    "}\n",
    "\n",
    "fig, axes = plt.subplots(nrows=1, ncols=2, figsize=(14, 6))\n",
    "sns.countplot(x='pedestrian_location', data=df, ax=axes[0], palette=current_palette)\n",
    "axes[0].set_title('Distribution of Pedestrian Location Values')\n",
    "axes[0].set_xlabel('Pedestrian Location')\n",
    "axes[0].set_ylabel('Count')\n",
    "axes[0].set_xticklabels(pedestrian_location_labels.values(), rotation=90)  # Add legend with rotated labels\n",
    "\n",
    "sns.countplot(x='pedestrian_movement', data=df, ax=axes[1], palette=current_palette)\n",
    "axes[1].set_title('Distribution of Pedestrian Movement Values')\n",
    "axes[1].set_xlabel('Pedestrian Movement')\n",
    "axes[1].set_ylabel('Count')\n",
    "axes[1].set_xticklabels(pedestrian_movement_labels.values(), rotation=90)  # Add legend with rotated labels\n",
    "\n",
    "plt.tight_layout()\n",
    "\n",
    "plt.show()"
   ],
   "metadata": {
    "collapsed": false
   },
   "id": "a1b976db6fccd577",
   "execution_count": null
  },
  {
   "cell_type": "markdown",
   "source": [
    "Plot the relationship between pedestrian location, pedestrian movement and casualty severity"
   ],
   "metadata": {
    "collapsed": false
   },
   "id": "30a432be83cb2f3f"
  },
  {
   "cell_type": "code",
   "outputs": [],
   "source": [
    "fig, axes = plt.subplots(nrows=1, ncols=2, figsize=(14, 6))\n",
    "\n",
    "# Plot the boxplot of casualty severity by pedestrian location\n",
    "sns.boxplot(x='pedestrian_location', y='casualty_severity', data=df, ax=axes[0], palette=current_palette)\n",
    "axes[0].set_title('Casualty Severity by Pedestrian Location')\n",
    "axes[0].set_xlabel('Pedestrian Location')\n",
    "axes[0].set_ylabel('Casualty Severity')\n",
    "\n",
    "# Plot the boxplot of casualty severity by pedestrian movement\n",
    "sns.boxplot(x='pedestrian_movement', y='casualty_severity', data=df, ax=axes[1], palette=current_palette)\n",
    "axes[1].set_title('Casualty Severity by Pedestrian Movement')\n",
    "axes[1].set_xlabel('Pedestrian Movement')\n",
    "axes[1].set_ylabel('Casualty Severity')\n",
    "\n",
    "# Add legend\n",
    "legend_labels = ['Not a Pedestrian', 'Crossing on Pedestrian Crossing Facility', 'Crossing in Zig-zag Approach Lines',\n",
    "                 'Crossing in Zig-zag Exit Lines', 'Crossing Elsewhere within 50m of Pedestrian Crossing',\n",
    "                 'In Carriageway, Crossing Elsewhere', 'On Footway or Verge', 'On Refuge, Central Island or Central Reservation',\n",
    "                 'In Centre of Carriageway - Not on Refuge, Island or Central Reservation', 'In Carriageway, Not Crossing',\n",
    "                 'Unknown or Other']\n",
    "legend = plt.legend(legend_labels, title='Pedestrian Location', loc='upper left', bbox_to_anchor=(1, 1))\n",
    "plt.setp(legend.get_title(), fontsize=12)\n",
    "\n",
    "plt.tight_layout()\n",
    "\n",
    "plt.show()\n"
   ],
   "metadata": {
    "collapsed": false
   },
   "id": "d2ecb9fafe24cf98",
   "execution_count": null
  },
  {
   "cell_type": "markdown",
   "source": [
    "Plot the distribution of accidents across age bands"
   ],
   "metadata": {
    "collapsed": false
   },
   "id": "aa771ca7960c5c5"
  },
  {
   "cell_type": "code",
   "outputs": [],
   "source": [
    "plt.figure(figsize=(10, 8))\n",
    "sns.countplot(x='age_band_of_casualty', data=df, palette=current_palette)\n",
    "plt.title('Distribution of Accidents by Age Band of Casualty')\n",
    "plt.xlabel('Age Band of Casualty')\n",
    "plt.ylabel('Count')\n",
    "\n",
    "legend_labels = ['0 - 5', '6 - 10', '11 - 15', '16 - 20', '21 - 25', '26 - 35', '36 - 45', '46 - 55', '56 - 65', '66 - 75', 'Over 75']\n",
    "legend = plt.legend(legend_labels, title='Age Band of Casualty', loc='upper left', bbox_to_anchor=(1, 1))\n",
    "plt.setp(legend.get_title(), fontsize=12)\n",
    "\n",
    "plt.show()\n"
   ],
   "metadata": {
    "collapsed": false
   },
   "id": "7d2b875a39ce0446",
   "execution_count": null
  },
  {
   "cell_type": "markdown",
   "source": [
    "Plot the distribution of vehicle reference values"
   ],
   "metadata": {
    "collapsed": false
   },
   "id": "e715ae85b82ecf93"
  },
  {
   "cell_type": "code",
   "outputs": [],
   "source": [
    "plt.figure(figsize=(10, 8))\n",
    "sns.countplot(x='vehicle_reference', data=df, palette=current_palette)\n",
    "plt.title('Distribution of Vehicle Reference Values')\n",
    "plt.xlabel('Vehicle Reference')\n",
    "plt.ylabel('Count')\n",
    "plt.show()"
   ],
   "metadata": {
    "collapsed": false
   },
   "id": "79a0f4e01557718c",
   "execution_count": null
  },
  {
   "cell_type": "markdown",
   "source": [
    "Plot the distribution of Casualty_IMD_Decile values"
   ],
   "metadata": {
    "collapsed": false
   },
   "id": "6c7e7af48814d77f"
  },
  {
   "cell_type": "code",
   "outputs": [],
   "source": [
    "# Plot the distribution of Casualty IMD Decile values\n",
    "plt.figure(figsize=(10, 8))\n",
    "sns.countplot(x='casualty_imd_decile', data=df, palette=current_palette)\n",
    "plt.title('Distribution of Casualty IMD Decile Values')\n",
    "plt.xlabel('Casualty IMD Decile')\n",
    "plt.ylabel('Count')\n",
    "\n",
    "# Add legend\n",
    "legend_labels = ['Most deprived 10%', 'More deprived 10-20%', 'More deprived 20-30%', 'More deprived 30-40%', \n",
    "                 'More deprived 40-50%', 'Less deprived 40-50%', 'Less deprived 30-40%', 'Less deprived 20-30%', \n",
    "                 'Less deprived 10-20%', 'Least deprived 10%']\n",
    "legend = plt.legend(legend_labels, title='Casualty IMD Decile', loc='upper left', bbox_to_anchor=(1, 1))\n",
    "plt.setp(legend.get_title(), fontsize=12)\n",
    "\n",
    "plt.show()\n"
   ],
   "metadata": {
    "collapsed": false
   },
   "id": "d6c448b9bd8f3281",
   "execution_count": null
  },
  {
   "cell_type": "markdown",
   "source": [
    "Plot the distribution of Age_of_Casualty values"
   ],
   "metadata": {
    "collapsed": false
   },
   "id": "d10f21f5a0a245d"
  },
  {
   "cell_type": "code",
   "outputs": [],
   "source": [
    "plt.figure(figsize=(10, 8))\n",
    "sns.histplot(df['age_of_casualty'], bins=20, kde=True, palette=current_palette)\n",
    "plt.title('Distribution of Age of Casualty')\n",
    "plt.xlabel('Age of Casualty')\n",
    "plt.ylabel('Count')\n",
    "plt.show()"
   ],
   "metadata": {
    "collapsed": false
   },
   "id": "8cc4fbfc805babf",
   "execution_count": null
  },
  {
   "cell_type": "code",
   "outputs": [],
   "source": [],
   "metadata": {
    "collapsed": false
   },
   "id": "8efb3ea90529555"
  },
  {
   "cell_type": "markdown",
   "source": [
    " bus or coach passenger categories"
   ],
   "metadata": {
    "collapsed": false
   },
   "id": "d8fb668f42a17874"
  },
  {
   "cell_type": "code",
   "outputs": [],
   "source": [
    "plt.figure(figsize=(10, 6))\n",
    "sns.countplot(x='bus_or_coach_passenger', data=df, palette=current_palette)\n",
    "\n",
    "passenger_categories = {\n",
    "    0: 'Not a bus or coach passenger',\n",
    "    1: 'Boarding',\n",
    "    2: 'Alighting',\n",
    "    3: 'Standing passenger',\n",
    "    4: 'Seated passenger',\n",
    "    9: 'Unknown (self-reported)'\n",
    "}\n",
    "\n",
    "plt.legend(title='Bus or Coach Passenger', labels=[f'{key}: {value}' for key, value in passenger_categories.items()])\n",
    "\n",
    "plt.title('Distribution of Bus or Coach Passenger Categories')\n",
    "plt.xlabel('Bus or Coach Passenger Category')\n",
    "plt.ylabel('Count')\n",
    "plt.show()\n"
   ],
   "metadata": {
    "collapsed": false
   },
   "id": "2a68f876a76d86b1",
   "execution_count": null
  },
  {
   "cell_type": "markdown",
   "source": [
    "# relationship comparison"
   ],
   "metadata": {
    "collapsed": false
   },
   "id": "eadcee66b89b106a"
  },
  {
   "cell_type": "markdown",
   "source": [
    "Plot the relationship between casualty severity and the IMD decile"
   ],
   "metadata": {
    "collapsed": false
   },
   "id": "731d71a1a804e94d"
  },
  {
   "cell_type": "code",
   "outputs": [],
   "source": [
    "plt.figure(figsize=(10, 8))\n",
    "sns.boxplot(x='casualty_severity', y='casualty_imd_decile', data=df, palette=current_palette)\n",
    "plt.title('Casualty Severity by IMD Decile')\n",
    "plt.xlabel('Casualty Severity')\n",
    "plt.ylabel('IMD Decile')\n",
    "plt.show()"
   ],
   "metadata": {
    "collapsed": false
   },
   "id": "c3439a7f78d6ed35",
   "execution_count": null
  },
  {
   "cell_type": "markdown",
   "source": [
    "Plot the relationship between casualty severity and age band"
   ],
   "metadata": {
    "collapsed": false
   },
   "id": "48669ba56593f588"
  },
  {
   "cell_type": "code",
   "outputs": [],
   "source": [
    "plt.figure(figsize=(10, 8))\n",
    "sns.boxplot(x='casualty_severity', y='age_of_casualty', data=df, palette=current_palette)\n",
    "plt.title('Casualty Severity by Age of Casualty')\n",
    "plt.xlabel('Casualty Severity')\n",
    "plt.ylabel('Age of Casualty')\n",
    "plt.show()"
   ],
   "metadata": {
    "collapsed": false
   },
   "id": "7f7b3be715b153d8",
   "execution_count": null
  },
  {
   "cell_type": "code",
   "outputs": [
    {
     "name": "stdout",
     "output_type": "stream",
     "text": [
      "Fitting 5 folds for each of 12 candidates, totalling 60 fits\n"
     ]
    },
    {
     "name": "stderr",
     "output_type": "stream",
     "text": [
      "\n",
      "KeyboardInterrupt\n",
      "\n"
     ]
    }
   ],
   "source": [
    "from sklearn.svm import SVC\n",
    "from sklearn.preprocessing import StandardScaler\n",
    "from sklearn.pipeline import make_pipeline\n",
    "from sklearn.model_selection import GridSearchCV\n",
    "\n",
    "df.drop(columns=['lsoa_of_casualty', 'accident_index', 'age_of_casualty'], inplace=True)\n",
    "\n",
    "# Split the data into features (X) and target variable (y)\n",
    "X = df.drop(columns=['casualty_severity'])\n",
    "y = df['casualty_severity']\n",
    "\n",
    "# Split the data into training and testing sets\n",
    "X_train, X_test, y_train, y_test = train_test_split(X, y, test_size=0.2, random_state=42)\n",
    "\n",
    "# Standardize the features\n",
    "pipeline = make_pipeline(StandardScaler(), SVC(random_state=42))\n",
    "\n",
    "# Define hyperparameters for tuning\n",
    "param_grid = {\n",
    "    'svc__C': [0.1, 1, 10, 100],\n",
    "    'svc__kernel': ['linear', 'rbf', 'poly'],\n",
    "}\n",
    "\n",
    "# Grid search to find the best combination of hyperparameters\n",
    "grid_search = GridSearchCV(pipeline, param_grid, cv=5, scoring='accuracy', verbose=1, n_jobs=-1)\n",
    "grid_search.fit(X_train, y_train)\n",
    "\n",
    "# Print the best parameters found by grid search\n",
    "print(\"Best Parameters:\", grid_search.best_params_)\n",
    "\n",
    "# Train the model with the best parameters\n",
    "best_svc = grid_search.best_estimator_\n",
    "best_svc.fit(X_train, y_train)\n",
    "\n",
    "# Predictions on the test set\n",
    "y_pred = best_svc.predict(X_test)\n",
    "\n",
    "# Print classification report and confusion matrix\n",
    "print(\"Classification Report:\")\n",
    "print(classification_report(y_test, y_pred))\n",
    "\n",
    "print(\"Confusion Matrix:\")\n",
    "print(confusion_matrix(y_test, y_pred))\n"
   ],
   "metadata": {
    "collapsed": false,
    "ExecuteTime": {
     "end_time": "2024-02-25T20:26:17.112543700Z",
     "start_time": "2024-02-25T20:20:11.599386200Z"
    }
   },
   "id": "4fe5b781ff6dd34c",
   "execution_count": 22
  },
  {
   "cell_type": "code",
   "outputs": [
    {
     "name": "stdout",
     "output_type": "stream",
     "text": [
      "Selected Features:\n",
      "Index(['age_band_of_casualty', 'pedestrian_location', 'pedestrian_movement',\n",
      "       'casualty_type', 'casualty_imd_decile'],\n",
      "      dtype='object')\n"
     ]
    }
   ],
   "source": [
    "from sklearn.feature_selection import RFE\n",
    "from sklearn.ensemble import RandomForestClassifier\n",
    "\n",
    "# Initialize RandomForestClassifier\n",
    "rf_classifier = RandomForestClassifier(random_state=42)\n",
    "\n",
    "# Initialize RFE with RandomForestClassifier\n",
    "rfe_selector = RFE(estimator=rf_classifier, n_features_to_select=5, step=1)\n",
    "\n",
    "# Fit RFE to the training data\n",
    "rfe_selector = rfe_selector.fit(X_train, y_train)\n",
    "\n",
    "# Get selected feature names\n",
    "selected_features = X_train.columns[rfe_selector.support_]\n",
    "\n",
    "# Print selected feature names\n",
    "print(\"Selected Features:\")\n",
    "print(selected_features)\n"
   ],
   "metadata": {
    "collapsed": false,
    "ExecuteTime": {
     "end_time": "2024-02-25T20:27:19.348239400Z",
     "start_time": "2024-02-25T20:26:59.634349300Z"
    }
   },
   "id": "a2e08676f872b2e9",
   "execution_count": 24
  },
  {
   "cell_type": "code",
   "outputs": [],
   "source": [
    "df.to_csv('cleaned_data.csv')"
   ],
   "metadata": {
    "collapsed": false
   },
   "id": "89187c5cd84dec7f",
   "execution_count": null
  }
 ],
 "metadata": {
  "kernelspec": {
   "display_name": "Python 3",
   "language": "python",
   "name": "python3"
  },
  "language_info": {
   "codemirror_mode": {
    "name": "ipython",
    "version": 2
   },
   "file_extension": ".py",
   "mimetype": "text/x-python",
   "name": "python",
   "nbconvert_exporter": "python",
   "pygments_lexer": "ipython2",
   "version": "2.7.6"
  }
 },
 "nbformat": 4,
 "nbformat_minor": 5
}
