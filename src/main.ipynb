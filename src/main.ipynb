{
 "cells": [
  {
   "cell_type": "code",
   "outputs": [],
   "source": [
    "import numpy as np\n",
    "import pandas as pd\n",
    "import matplotlib.pyplot as plt"
   ],
   "metadata": {
    "collapsed": false
   },
   "id": "60bb9ea6ed3243f9",
   "execution_count": 0
  },
  {
   "cell_type": "code",
   "outputs": [],
   "source": [
    "!pip list"
   ],
   "metadata": {
    "collapsed": false
   },
   "id": "252f1a7e368fe3a3",
   "execution_count": 0
  },
  {
   "cell_type": "code",
   "outputs": [],
   "source": [
    "csv = pd.read_csv(\"D:\\Files\\Freelancing\\pyfreelnce\\Project_1\\source\\Python_Data_Science_and_Machine_Learning_project1_Dataset\\dft-road-casualty-statistics-casualty-provisional-mid-year-unvalidated-2022 (1).csv\")\n",
    "df = csv"
   ],
   "metadata": {
    "collapsed": false
   },
   "id": "36619edebe0427db",
   "execution_count": 31
  },
  {
   "cell_type": "code",
   "outputs": [],
   "source": [
    "cleaned_df = csv.drop_duplicates()\n",
    "cleaned_df"
   ],
   "metadata": {
    "collapsed": false
   },
   "id": "c5a1819d6c19d47e",
   "execution_count": 0
  },
  {
   "cell_type": "code",
   "outputs": [
    {
     "name": "stdout",
     "output_type": "stream",
     "text": [
      "Range of diversity for 'accident_year': 1\n",
      "Range of diversity for 'vehicle_reference': 227\n",
      "Range of diversity for 'casualty_reference': 148\n",
      "Range of diversity for 'casualty_class': 3\n",
      "Range of diversity for 'sex_of_casualty': 11\n",
      "Range of diversity for 'age_of_casualty': 103\n",
      "Range of diversity for 'age_band_of_casualty': 13\n",
      "Range of diversity for 'casualty_severity': 3\n",
      "Range of diversity for 'pedestrian_location': 11\n",
      "Range of diversity for 'pedestrian_movement': 10\n",
      "Range of diversity for 'car_passenger': 11\n",
      "Range of diversity for 'bus_or_coach_passenger': 11\n",
      "Range of diversity for 'pedestrian_road_maintenance_worker': 4\n",
      "Range of diversity for 'casualty_type': 100\n",
      "Range of diversity for 'casualty_home_area_type': 5\n",
      "Range of diversity for 'casualty_imd_decile': 12\n"
     ]
    }
   ],
   "source": [
    "# Read the CSV data into a DataFrame\n",
    "\n",
    "\n",
    "# Calculate the range of diversity for each numerical column\n",
    "diversity_ranges = {}\n",
    "for column in df.columns:\n",
    "    if df[column].dtype in ['int64', 'float64']:  # Check if the column is numerical\n",
    "        column_range = df[column].max() - df[column].min()\n",
    "        diversity_ranges[column] = column_range + 1\n",
    "\n",
    "# Print the range of diversity for each numerical column\n",
    "for column, diversity_range in diversity_ranges.items():\n",
    "    print(f\"Range of diversity for '{column}': {diversity_range}\")"
   ],
   "metadata": {
    "collapsed": false
   },
   "id": "6122e10103968ff4",
   "execution_count": 33
  }
 ],
 "metadata": {
  "kernelspec": {
   "display_name": "Python 3",
   "language": "python",
   "name": "python3"
  },
  "language_info": {
   "codemirror_mode": {
    "name": "ipython",
    "version": 2
   },
   "file_extension": ".py",
   "mimetype": "text/x-python",
   "name": "python",
   "nbconvert_exporter": "python",
   "pygments_lexer": "ipython2",
   "version": "2.7.6"
  }
 },
 "nbformat": 4,
 "nbformat_minor": 5
}
